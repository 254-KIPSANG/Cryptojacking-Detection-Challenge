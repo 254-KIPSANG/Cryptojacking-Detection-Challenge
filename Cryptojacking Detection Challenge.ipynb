{
 "cells": [
  {
   "cell_type": "code",
   "execution_count": 1,
   "id": "dbc3fa39",
   "metadata": {},
   "outputs": [],
   "source": [
    "import psutil\n",
    "import socket\n",
    "import requests\n",
    "import re\n"
   ]
  },
  {
   "cell_type": "code",
   "execution_count": 2,
   "id": "6ed3f9ac",
   "metadata": {},
   "outputs": [],
   "source": [
    "# Monitoring CPU usage\n",
    "def check_cpu():\n",
    "    cpu_percent = psutil.cpu_percent()\n",
    "    if cpu_percent > 80:\n",
    "        print(\"CPU usage is high. Possible cryptojacking activity.\")\n",
    "    else:\n",
    "        print(\"CPU usage is normal.\")\n",
    "\n"
   ]
  },
  {
   "cell_type": "code",
   "execution_count": 3,
   "id": "09a24d0d",
   "metadata": {},
   "outputs": [],
   "source": [
    "# Network traffic analysis\n",
    "def check_network():\n",
    "    for conn in psutil.net_connections(kind='tcp'):\n",
    "        if conn.status == psutil.CONN_ESTABLISHED and 'pool.minergate.com' in conn.remote_address[0]:\n",
    "            print(\"Network activity detected. Possible cryptojacking activity.\")\n",
    "\n"
   ]
  },
  {
   "cell_type": "code",
   "execution_count": 4,
   "id": "1784c957",
   "metadata": {},
   "outputs": [],
   "source": [
    "# Signature-based detection\n",
    "def check_signature():\n",
    "    response = requests.get('https://www.cloudflare.com/cdn-cgi/scripts/cf.min.js')\n",
    "    if 'var miner' in response.text:\n",
    "        print(\"Cryptojacking signature detected.\")\n",
    "\n"
   ]
  },
  {
   "cell_type": "code",
   "execution_count": 5,
   "id": "3fe0bb34",
   "metadata": {},
   "outputs": [],
   "source": [
    "# Behavioral analysis\n",
    "def check_behaviour():\n",
    "    for process in psutil.process_iter(['pid', 'name']):\n",
    "        if process.name() == 'xmrig' or process.name() == 'minergate':\n",
    "            print(\"Cryptojacking process detected.\")\n",
    "            return\n",
    "\n",
    "    print(\"No cryptojacking process detected.\")\n",
    "\n"
   ]
  },
  {
   "cell_type": "code",
   "execution_count": 6,
   "id": "a0906371",
   "metadata": {},
   "outputs": [],
   "source": [
    "# Browser extensions\n",
    "def check_extension():\n",
    "    chrome_extensions = requests.get(\"http://localhost:9222/json/list\")\n",
    "    for extension in chrome_extensions.json():\n",
    "        if 'miner' in extension['title']:\n",
    "            print(\"Cryptojacking browser extension detected.\")\n",
    "\n"
   ]
  },
  {
   "cell_type": "code",
   "execution_count": null,
   "id": "009c781d",
   "metadata": {},
   "outputs": [],
   "source": [
    "# Run all checks\n",
    "check_cpu()\n",
    "check_network()\n",
    "check_signature()\n",
    "check_behaviour()\n",
    "check_extension()"
   ]
  }
 ],
 "metadata": {
  "kernelspec": {
   "display_name": "Python 3 (ipykernel)",
   "language": "python",
   "name": "python3"
  },
  "language_info": {
   "codemirror_mode": {
    "name": "ipython",
    "version": 3
   },
   "file_extension": ".py",
   "mimetype": "text/x-python",
   "name": "python",
   "nbconvert_exporter": "python",
   "pygments_lexer": "ipython3",
   "version": "3.9.13"
  }
 },
 "nbformat": 4,
 "nbformat_minor": 5
}
